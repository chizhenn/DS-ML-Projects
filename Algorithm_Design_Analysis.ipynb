{
  "nbformat": 4,
  "nbformat_minor": 0,
  "metadata": {
    "colab": {
      "provenance": [],
      "toc_visible": true,
      "authorship_tag": "ABX9TyPoGL5kTzqvCGHl/OjJsdMM",
      "include_colab_link": true
    },
    "kernelspec": {
      "name": "python3",
      "display_name": "Python 3"
    },
    "language_info": {
      "name": "python"
    }
  },
  "cells": [
    {
      "cell_type": "markdown",
      "metadata": {
        "id": "view-in-github",
        "colab_type": "text"
      },
      "source": [
        "<a href=\"https://colab.research.google.com/github/chizhenn/DS-ML-Projects/blob/main/Algorithm_Design_Analysis.ipynb\" target=\"_parent\"><img src=\"https://colab.research.google.com/assets/colab-badge.svg\" alt=\"Open In Colab\"/></a>"
      ]
    },
    {
      "cell_type": "markdown",
      "source": [
        "##**Import dataset**"
      ],
      "metadata": {
        "id": "yJsOaQVZmcdq"
      }
    },
    {
      "cell_type": "code",
      "source": [
        "import io\n",
        "import requests\n",
        "from google.colab import drive\n",
        "drive.mount('/content/gdrive', force_remount=True)"
      ],
      "metadata": {
        "colab": {
          "base_uri": "https://localhost:8080/"
        },
        "id": "RDh0FCt-oEoj",
        "outputId": "79606959-fd0f-4be0-b280-5c0e84a7750c"
      },
      "execution_count": null,
      "outputs": [
        {
          "output_type": "stream",
          "name": "stdout",
          "text": [
            "Mounted at /content/gdrive\n"
          ]
        }
      ]
    },
    {
      "cell_type": "code",
      "source": [
        "import pandas as pd\n",
        "import numpy as np\n",
        "df = \"/content/gdrive/MyDrive/Moira_Market_Items.csv\"\n",
        "df = pd.read_csv (df, header=0)"
      ],
      "metadata": {
        "id": "4GVl6xVkoHHC"
      },
      "execution_count": null,
      "outputs": []
    },
    {
      "cell_type": "markdown",
      "source": [
        "##**Understand the dataset**"
      ],
      "metadata": {
        "id": "TFqEafEg0yw2"
      }
    },
    {
      "cell_type": "code",
      "source": [
        "df.info()"
      ],
      "metadata": {
        "colab": {
          "base_uri": "https://localhost:8080/"
        },
        "id": "KkrY0OmQpPCj",
        "outputId": "26212316-dd06-4e04-e4cd-983afe36ad7e"
      },
      "execution_count": null,
      "outputs": [
        {
          "output_type": "stream",
          "name": "stdout",
          "text": [
            "<class 'pandas.core.frame.DataFrame'>\n",
            "RangeIndex: 350 entries, 0 to 349\n",
            "Data columns (total 5 columns):\n",
            " #   Column         Non-Null Count  Dtype  \n",
            "---  ------         --------------  -----  \n",
            " 0   Stall ID       350 non-null    object \n",
            " 1   Item Name      350 non-null    object \n",
            " 2   Price          350 non-null    int64  \n",
            " 3   Durability     350 non-null    int64  \n",
            " 4   Compatibility  350 non-null    float64\n",
            "dtypes: float64(1), int64(2), object(2)\n",
            "memory usage: 13.8+ KB\n"
          ]
        }
      ]
    },
    {
      "cell_type": "markdown",
      "source": [
        "*   There are 5 features with no missing values. Stall ID and Item Name act as identifiers.\n",
        "\n",
        "*   Compatibility is how well the item works with the ship, which is the most important feature when selecting an item.\n",
        "\n",
        "*   Price and durability are essential factors and should be evaluated according to user requirements.\n",
        "\n",
        "\n"
      ],
      "metadata": {
        "id": "4qspnpiy1HKm"
      }
    },
    {
      "cell_type": "code",
      "source": [
        "df.head()"
      ],
      "metadata": {
        "colab": {
          "base_uri": "https://localhost:8080/",
          "height": 206
        },
        "id": "DzMzUYYRpQOF",
        "outputId": "ebea992a-1192-4bc9-a7d1-570c2d6b2e03"
      },
      "execution_count": null,
      "outputs": [
        {
          "output_type": "execute_result",
          "data": {
            "text/plain": [
              "    Stall ID     Item Name  Price  Durability  Compatibility\n",
              "0  STALL-004   Nano Filter    434          53           0.90\n",
              "1  STALL-186  Solar Filter   1031          62           0.65\n",
              "2  STALL-153    Solar Core    394          98           0.99\n",
              "3  STALL-047  Quantum Core    854          51           0.80\n",
              "4  STALL-038   Cyber Relay   1494          54           0.79"
            ],
            "text/html": [
              "\n",
              "  <div id=\"df-8e09aa5f-018e-426c-bc65-66971a59a4c7\" class=\"colab-df-container\">\n",
              "    <div>\n",
              "<style scoped>\n",
              "    .dataframe tbody tr th:only-of-type {\n",
              "        vertical-align: middle;\n",
              "    }\n",
              "\n",
              "    .dataframe tbody tr th {\n",
              "        vertical-align: top;\n",
              "    }\n",
              "\n",
              "    .dataframe thead th {\n",
              "        text-align: right;\n",
              "    }\n",
              "</style>\n",
              "<table border=\"1\" class=\"dataframe\">\n",
              "  <thead>\n",
              "    <tr style=\"text-align: right;\">\n",
              "      <th></th>\n",
              "      <th>Stall ID</th>\n",
              "      <th>Item Name</th>\n",
              "      <th>Price</th>\n",
              "      <th>Durability</th>\n",
              "      <th>Compatibility</th>\n",
              "    </tr>\n",
              "  </thead>\n",
              "  <tbody>\n",
              "    <tr>\n",
              "      <th>0</th>\n",
              "      <td>STALL-004</td>\n",
              "      <td>Nano Filter</td>\n",
              "      <td>434</td>\n",
              "      <td>53</td>\n",
              "      <td>0.90</td>\n",
              "    </tr>\n",
              "    <tr>\n",
              "      <th>1</th>\n",
              "      <td>STALL-186</td>\n",
              "      <td>Solar Filter</td>\n",
              "      <td>1031</td>\n",
              "      <td>62</td>\n",
              "      <td>0.65</td>\n",
              "    </tr>\n",
              "    <tr>\n",
              "      <th>2</th>\n",
              "      <td>STALL-153</td>\n",
              "      <td>Solar Core</td>\n",
              "      <td>394</td>\n",
              "      <td>98</td>\n",
              "      <td>0.99</td>\n",
              "    </tr>\n",
              "    <tr>\n",
              "      <th>3</th>\n",
              "      <td>STALL-047</td>\n",
              "      <td>Quantum Core</td>\n",
              "      <td>854</td>\n",
              "      <td>51</td>\n",
              "      <td>0.80</td>\n",
              "    </tr>\n",
              "    <tr>\n",
              "      <th>4</th>\n",
              "      <td>STALL-038</td>\n",
              "      <td>Cyber Relay</td>\n",
              "      <td>1494</td>\n",
              "      <td>54</td>\n",
              "      <td>0.79</td>\n",
              "    </tr>\n",
              "  </tbody>\n",
              "</table>\n",
              "</div>\n",
              "    <div class=\"colab-df-buttons\">\n",
              "\n",
              "  <div class=\"colab-df-container\">\n",
              "    <button class=\"colab-df-convert\" onclick=\"convertToInteractive('df-8e09aa5f-018e-426c-bc65-66971a59a4c7')\"\n",
              "            title=\"Convert this dataframe to an interactive table.\"\n",
              "            style=\"display:none;\">\n",
              "\n",
              "  <svg xmlns=\"http://www.w3.org/2000/svg\" height=\"24px\" viewBox=\"0 -960 960 960\">\n",
              "    <path d=\"M120-120v-720h720v720H120Zm60-500h600v-160H180v160Zm220 220h160v-160H400v160Zm0 220h160v-160H400v160ZM180-400h160v-160H180v160Zm440 0h160v-160H620v160ZM180-180h160v-160H180v160Zm440 0h160v-160H620v160Z\"/>\n",
              "  </svg>\n",
              "    </button>\n",
              "\n",
              "  <style>\n",
              "    .colab-df-container {\n",
              "      display:flex;\n",
              "      gap: 12px;\n",
              "    }\n",
              "\n",
              "    .colab-df-convert {\n",
              "      background-color: #E8F0FE;\n",
              "      border: none;\n",
              "      border-radius: 50%;\n",
              "      cursor: pointer;\n",
              "      display: none;\n",
              "      fill: #1967D2;\n",
              "      height: 32px;\n",
              "      padding: 0 0 0 0;\n",
              "      width: 32px;\n",
              "    }\n",
              "\n",
              "    .colab-df-convert:hover {\n",
              "      background-color: #E2EBFA;\n",
              "      box-shadow: 0px 1px 2px rgba(60, 64, 67, 0.3), 0px 1px 3px 1px rgba(60, 64, 67, 0.15);\n",
              "      fill: #174EA6;\n",
              "    }\n",
              "\n",
              "    .colab-df-buttons div {\n",
              "      margin-bottom: 4px;\n",
              "    }\n",
              "\n",
              "    [theme=dark] .colab-df-convert {\n",
              "      background-color: #3B4455;\n",
              "      fill: #D2E3FC;\n",
              "    }\n",
              "\n",
              "    [theme=dark] .colab-df-convert:hover {\n",
              "      background-color: #434B5C;\n",
              "      box-shadow: 0px 1px 3px 1px rgba(0, 0, 0, 0.15);\n",
              "      filter: drop-shadow(0px 1px 2px rgba(0, 0, 0, 0.3));\n",
              "      fill: #FFFFFF;\n",
              "    }\n",
              "  </style>\n",
              "\n",
              "    <script>\n",
              "      const buttonEl =\n",
              "        document.querySelector('#df-8e09aa5f-018e-426c-bc65-66971a59a4c7 button.colab-df-convert');\n",
              "      buttonEl.style.display =\n",
              "        google.colab.kernel.accessAllowed ? 'block' : 'none';\n",
              "\n",
              "      async function convertToInteractive(key) {\n",
              "        const element = document.querySelector('#df-8e09aa5f-018e-426c-bc65-66971a59a4c7');\n",
              "        const dataTable =\n",
              "          await google.colab.kernel.invokeFunction('convertToInteractive',\n",
              "                                                    [key], {});\n",
              "        if (!dataTable) return;\n",
              "\n",
              "        const docLinkHtml = 'Like what you see? Visit the ' +\n",
              "          '<a target=\"_blank\" href=https://colab.research.google.com/notebooks/data_table.ipynb>data table notebook</a>'\n",
              "          + ' to learn more about interactive tables.';\n",
              "        element.innerHTML = '';\n",
              "        dataTable['output_type'] = 'display_data';\n",
              "        await google.colab.output.renderOutput(dataTable, element);\n",
              "        const docLink = document.createElement('div');\n",
              "        docLink.innerHTML = docLinkHtml;\n",
              "        element.appendChild(docLink);\n",
              "      }\n",
              "    </script>\n",
              "  </div>\n",
              "\n",
              "\n",
              "    <div id=\"df-3dd1b2c2-f3c0-46e4-acab-0548a026f3a1\">\n",
              "      <button class=\"colab-df-quickchart\" onclick=\"quickchart('df-3dd1b2c2-f3c0-46e4-acab-0548a026f3a1')\"\n",
              "                title=\"Suggest charts\"\n",
              "                style=\"display:none;\">\n",
              "\n",
              "<svg xmlns=\"http://www.w3.org/2000/svg\" height=\"24px\"viewBox=\"0 0 24 24\"\n",
              "     width=\"24px\">\n",
              "    <g>\n",
              "        <path d=\"M19 3H5c-1.1 0-2 .9-2 2v14c0 1.1.9 2 2 2h14c1.1 0 2-.9 2-2V5c0-1.1-.9-2-2-2zM9 17H7v-7h2v7zm4 0h-2V7h2v10zm4 0h-2v-4h2v4z\"/>\n",
              "    </g>\n",
              "</svg>\n",
              "      </button>\n",
              "\n",
              "<style>\n",
              "  .colab-df-quickchart {\n",
              "      --bg-color: #E8F0FE;\n",
              "      --fill-color: #1967D2;\n",
              "      --hover-bg-color: #E2EBFA;\n",
              "      --hover-fill-color: #174EA6;\n",
              "      --disabled-fill-color: #AAA;\n",
              "      --disabled-bg-color: #DDD;\n",
              "  }\n",
              "\n",
              "  [theme=dark] .colab-df-quickchart {\n",
              "      --bg-color: #3B4455;\n",
              "      --fill-color: #D2E3FC;\n",
              "      --hover-bg-color: #434B5C;\n",
              "      --hover-fill-color: #FFFFFF;\n",
              "      --disabled-bg-color: #3B4455;\n",
              "      --disabled-fill-color: #666;\n",
              "  }\n",
              "\n",
              "  .colab-df-quickchart {\n",
              "    background-color: var(--bg-color);\n",
              "    border: none;\n",
              "    border-radius: 50%;\n",
              "    cursor: pointer;\n",
              "    display: none;\n",
              "    fill: var(--fill-color);\n",
              "    height: 32px;\n",
              "    padding: 0;\n",
              "    width: 32px;\n",
              "  }\n",
              "\n",
              "  .colab-df-quickchart:hover {\n",
              "    background-color: var(--hover-bg-color);\n",
              "    box-shadow: 0 1px 2px rgba(60, 64, 67, 0.3), 0 1px 3px 1px rgba(60, 64, 67, 0.15);\n",
              "    fill: var(--button-hover-fill-color);\n",
              "  }\n",
              "\n",
              "  .colab-df-quickchart-complete:disabled,\n",
              "  .colab-df-quickchart-complete:disabled:hover {\n",
              "    background-color: var(--disabled-bg-color);\n",
              "    fill: var(--disabled-fill-color);\n",
              "    box-shadow: none;\n",
              "  }\n",
              "\n",
              "  .colab-df-spinner {\n",
              "    border: 2px solid var(--fill-color);\n",
              "    border-color: transparent;\n",
              "    border-bottom-color: var(--fill-color);\n",
              "    animation:\n",
              "      spin 1s steps(1) infinite;\n",
              "  }\n",
              "\n",
              "  @keyframes spin {\n",
              "    0% {\n",
              "      border-color: transparent;\n",
              "      border-bottom-color: var(--fill-color);\n",
              "      border-left-color: var(--fill-color);\n",
              "    }\n",
              "    20% {\n",
              "      border-color: transparent;\n",
              "      border-left-color: var(--fill-color);\n",
              "      border-top-color: var(--fill-color);\n",
              "    }\n",
              "    30% {\n",
              "      border-color: transparent;\n",
              "      border-left-color: var(--fill-color);\n",
              "      border-top-color: var(--fill-color);\n",
              "      border-right-color: var(--fill-color);\n",
              "    }\n",
              "    40% {\n",
              "      border-color: transparent;\n",
              "      border-right-color: var(--fill-color);\n",
              "      border-top-color: var(--fill-color);\n",
              "    }\n",
              "    60% {\n",
              "      border-color: transparent;\n",
              "      border-right-color: var(--fill-color);\n",
              "    }\n",
              "    80% {\n",
              "      border-color: transparent;\n",
              "      border-right-color: var(--fill-color);\n",
              "      border-bottom-color: var(--fill-color);\n",
              "    }\n",
              "    90% {\n",
              "      border-color: transparent;\n",
              "      border-bottom-color: var(--fill-color);\n",
              "    }\n",
              "  }\n",
              "</style>\n",
              "\n",
              "      <script>\n",
              "        async function quickchart(key) {\n",
              "          const quickchartButtonEl =\n",
              "            document.querySelector('#' + key + ' button');\n",
              "          quickchartButtonEl.disabled = true;  // To prevent multiple clicks.\n",
              "          quickchartButtonEl.classList.add('colab-df-spinner');\n",
              "          try {\n",
              "            const charts = await google.colab.kernel.invokeFunction(\n",
              "                'suggestCharts', [key], {});\n",
              "          } catch (error) {\n",
              "            console.error('Error during call to suggestCharts:', error);\n",
              "          }\n",
              "          quickchartButtonEl.classList.remove('colab-df-spinner');\n",
              "          quickchartButtonEl.classList.add('colab-df-quickchart-complete');\n",
              "        }\n",
              "        (() => {\n",
              "          let quickchartButtonEl =\n",
              "            document.querySelector('#df-3dd1b2c2-f3c0-46e4-acab-0548a026f3a1 button');\n",
              "          quickchartButtonEl.style.display =\n",
              "            google.colab.kernel.accessAllowed ? 'block' : 'none';\n",
              "        })();\n",
              "      </script>\n",
              "    </div>\n",
              "\n",
              "    </div>\n",
              "  </div>\n"
            ],
            "application/vnd.google.colaboratory.intrinsic+json": {
              "type": "dataframe",
              "variable_name": "df",
              "summary": "{\n  \"name\": \"df\",\n  \"rows\": 350,\n  \"fields\": [\n    {\n      \"column\": \"Stall ID\",\n      \"properties\": {\n        \"dtype\": \"category\",\n        \"num_unique_values\": 165,\n        \"samples\": [\n          \"STALL-108\",\n          \"STALL-185\",\n          \"STALL-017\"\n        ],\n        \"semantic_type\": \"\",\n        \"description\": \"\"\n      }\n    },\n    {\n      \"column\": \"Item Name\",\n      \"properties\": {\n        \"dtype\": \"category\",\n        \"num_unique_values\": 64,\n        \"samples\": [\n          \"Neutron Emitter\",\n          \"Ion Shield\",\n          \"Nano Filter\"\n        ],\n        \"semantic_type\": \"\",\n        \"description\": \"\"\n      }\n    },\n    {\n      \"column\": \"Price\",\n      \"properties\": {\n        \"dtype\": \"number\",\n        \"std\": 405,\n        \"min\": 101,\n        \"max\": 1499,\n        \"num_unique_values\": 310,\n        \"samples\": [\n          1377,\n          1360,\n          1399\n        ],\n        \"semantic_type\": \"\",\n        \"description\": \"\"\n      }\n    },\n    {\n      \"column\": \"Durability\",\n      \"properties\": {\n        \"dtype\": \"number\",\n        \"std\": 14,\n        \"min\": 50,\n        \"max\": 99,\n        \"num_unique_values\": 50,\n        \"samples\": [\n          71,\n          75,\n          89\n        ],\n        \"semantic_type\": \"\",\n        \"description\": \"\"\n      }\n    },\n    {\n      \"column\": \"Compatibility\",\n      \"properties\": {\n        \"dtype\": \"number\",\n        \"std\": 0.1421403807607685,\n        \"min\": 0.5,\n        \"max\": 1.0,\n        \"num_unique_values\": 51,\n        \"samples\": [\n          0.71,\n          0.68,\n          0.53\n        ],\n        \"semantic_type\": \"\",\n        \"description\": \"\"\n      }\n    }\n  ]\n}"
            }
          },
          "metadata": {},
          "execution_count": 41
        }
      ]
    },
    {
      "cell_type": "markdown",
      "source": [
        "##**Check duplication**"
      ],
      "metadata": {
        "id": "ZJy7XtPO2h4C"
      }
    },
    {
      "cell_type": "code",
      "source": [
        "# Identify duplicate rows based on 'Stall ID' and 'Item Name'\n",
        "duplicates = df.duplicated(subset=['Stall ID', 'Item Name'], keep=False)\n",
        "\n",
        "# Count number of duplicate entries\n",
        "num_duplicates = duplicates.sum()\n",
        "duplicate_rows = df[duplicates]\n",
        "\n",
        "print(f\"Number of duplicate rows (Stall ID + Item Name): {num_duplicates}\")\n",
        "print(duplicate_rows)"
      ],
      "metadata": {
        "colab": {
          "base_uri": "https://localhost:8080/"
        },
        "id": "gmDWcgA8xRdm",
        "outputId": "407c0f21-beb6-4362-ae90-b4fe9cabcf19"
      },
      "execution_count": null,
      "outputs": [
        {
          "output_type": "stream",
          "name": "stdout",
          "text": [
            "Number of duplicate rows (Stall ID + Item Name): 12\n",
            "      Stall ID       Item Name  Price  Durability  Compatibility\n",
            "31   STALL-035   Quantum Relay    603          85           0.86\n",
            "47   STALL-179     Solar Drive    386          52           0.77\n",
            "51   STALL-028   Plasma Matrix    691          72           0.78\n",
            "96   STALL-158        Ion Core    792          64           0.90\n",
            "137  STALL-179     Solar Drive    843          63           0.79\n",
            "175  STALL-035   Quantum Relay    554          54           0.62\n",
            "235  STALL-161     Nano Matrix    886          99           0.73\n",
            "245  STALL-158        Ion Core    205          98           0.94\n",
            "254  STALL-161     Nano Matrix   1474          84           0.73\n",
            "268  STALL-002  Neutron Filter   1499          50           0.79\n",
            "281  STALL-028   Plasma Matrix   1083          71           0.99\n",
            "294  STALL-002  Neutron Filter   1183          72           0.98\n"
          ]
        }
      ]
    },
    {
      "cell_type": "code",
      "source": [
        "# Identify duplicate rows based on 'Stall ID' and 'Item Name'\n",
        "duplicates = df.duplicated(subset=['Stall ID', 'Item Name','Compatibility'], keep=False)\n",
        "\n",
        "# Count number of duplicate entries\n",
        "num_duplicates = duplicates.sum()\n",
        "duplicate_rows = df[duplicates]\n",
        "\n",
        "print(f\"Number of duplicate rows (Stall ID + Item Name): {num_duplicates}\")\n",
        "print(duplicate_rows)"
      ],
      "metadata": {
        "colab": {
          "base_uri": "https://localhost:8080/"
        },
        "id": "bfoQlUSyzWMc",
        "outputId": "8cea6030-1c34-48e6-eaaa-746a15314879"
      },
      "execution_count": null,
      "outputs": [
        {
          "output_type": "stream",
          "name": "stdout",
          "text": [
            "Number of duplicate rows (Stall ID + Item Name): 2\n",
            "      Stall ID    Item Name  Price  Durability  Compatibility\n",
            "235  STALL-161  Nano Matrix    886          99           0.73\n",
            "254  STALL-161  Nano Matrix   1474          84           0.73\n"
          ]
        }
      ]
    },
    {
      "cell_type": "markdown",
      "source": [
        "*   Based on the results, it was found that the same item from the same stall may have different versions. Some may share the same compatibility, but they can still be differentiated by price and durability.\n",
        "\n",
        "\n",
        "\n",
        "\n"
      ],
      "metadata": {
        "id": "moFK70te0Bf-"
      }
    },
    {
      "cell_type": "markdown",
      "source": [
        "##**Constraints Given**"
      ],
      "metadata": {
        "id": "1Jmk3UsW6s7K"
      }
    },
    {
      "cell_type": "markdown",
      "source": [
        "- Maximum Price : Items must cost under 800 credits .\n",
        "- Minimum Durability : Items must have a durability rating above 85 .\n",
        "- Time Constraint : The market resets every 20 minutes, so we need to quickly filter and prioritize viable options .\n"
      ],
      "metadata": {
        "id": "TeN-G8hn6thX"
      }
    },
    {
      "cell_type": "markdown",
      "source": [
        "Based on the data analysis, we have developed two logic algorithms:\n",
        "\n",
        "\n",
        "\n",
        "\n"
      ],
      "metadata": {
        "id": "XUhhrq7b0hzF"
      }
    },
    {
      "cell_type": "markdown",
      "source": [
        "##**Algorithm 1 - Filter & Sort**"
      ],
      "metadata": {
        "id": "XJpt0VYI5EPv"
      }
    },
    {
      "cell_type": "code",
      "source": [
        "# Apply filters\n",
        "filtered_df = df[\n",
        "    (df['Price'] < 800) &\n",
        "    (df['Durability'] > 85) &\n",
        "    (df['Compatibility'] >= 0.8)\n",
        "].copy()\n",
        "\n",
        "# Add Durability / Price ratio\n",
        "filtered_df['Durability/Price'] = filtered_df['Durability'] / filtered_df['Price']\n",
        "\n",
        "# Sort by Compatibility then Durability per Price\n",
        "sorted_df = filtered_df.sort_values(\n",
        "    by=['Compatibility', 'Durability/Price'],\n",
        "    ascending=[False, False]\n",
        ")\n",
        "\n",
        "# Add Rank column\n",
        "# Optional\n",
        "sorted_df['Rank'] = range(1, len(sorted_df) + 1)\n",
        "\n",
        "# Reorder and display relevant columns\n",
        "result = sorted_df[[\n",
        "    'Rank', 'Stall ID', 'Item Name', 'Price', 'Durability',\n",
        "    'Compatibility', 'Durability/Price'\n",
        "]]\n",
        "\n",
        "print(result.to_string(index=False))"
      ],
      "metadata": {
        "colab": {
          "base_uri": "https://localhost:8080/"
        },
        "id": "rRVFEvXO5uZ7",
        "outputId": "c9a53048-ca70-45f5-f024-cfbf480d1cb4"
      },
      "execution_count": null,
      "outputs": [
        {
          "output_type": "stream",
          "name": "stdout",
          "text": [
            " Rank  Stall ID      Item Name  Price  Durability  Compatibility  Durability/Price\n",
            "    1 STALL-153     Solar Core    394          98           0.99          0.248731\n",
            "    2 STALL-076     Hyper Lens    397          98           0.98          0.246851\n",
            "    3 STALL-181   Plasma Relay    629          87           0.96          0.138315\n",
            "    4 STALL-158       Ion Core    205          98           0.94          0.478049\n",
            "    5 STALL-151     Ion Filter    625          93           0.94          0.148800\n",
            "    6 STALL-167   Neutron Lens    747          90           0.93          0.120482\n",
            "    7 STALL-190   Neutron Lens    113          93           0.92          0.823009\n",
            "    8 STALL-182    Hyper Drive    518          95           0.91          0.183398\n",
            "    9 STALL-029    Plasma Core    658          97           0.90          0.147416\n",
            "   10 STALL-094    Solar Drive    763          93           0.90          0.121887\n",
            "   11 STALL-143 Neutron Shield    285          93           0.87          0.326316\n"
          ]
        }
      ]
    },
    {
      "cell_type": "markdown",
      "source": [
        "In short, we filter the items based on:\n",
        "\n",
        "- Price < 800\n",
        "\n",
        "- Durability > 85\n",
        "\n",
        "- Compatibility ≥ 0.8 (assumed threshold)\n",
        "\n",
        "Then, sort and rank the filtered results by:\n",
        "\n",
        "- Primary: Compatibility (descending)\n",
        "\n",
        "- Secondary: Durability/Price ratio (descending)\n",
        "\n",
        "This ensures:\n",
        "\n",
        "- We pick items that fit the ship best first.\n",
        "\n",
        "- Then, among those, we get the best durability per credit spent."
      ],
      "metadata": {
        "id": "v7-KDYjY7k9J"
      }
    },
    {
      "cell_type": "markdown",
      "source": [
        "**Note:**\n",
        "\n",
        "We define Threshold = 0.8, which is a practical, safe, and realistic cutoff that balances performance, safety, and availability in volatile market environment"
      ],
      "metadata": {
        "id": "B8D-LYSP7Gmy"
      }
    },
    {
      "cell_type": "markdown",
      "source": [
        "##**Algorithm 2 - Heap-based**"
      ],
      "metadata": {
        "id": "dXHDX51F73co"
      }
    },
    {
      "cell_type": "code",
      "source": [
        "import heapq\n",
        "\n",
        "def get_ranked_modules(df, top_n=10):\n",
        "    pq = []\n",
        "\n",
        "    # Filter, score, and maintain top_n in heap\n",
        "    for _, row in df.iterrows():\n",
        "        price = row['Price']\n",
        "        durability = row['Durability']\n",
        "        compatibility = row['Compatibility']\n",
        "\n",
        "        if price >= 800 or durability <= 85 or compatibility < 0.8:\n",
        "            continue\n",
        "\n",
        "        score = compatibility * 1000 - price + durability / 10\n",
        "        entry = (score, row['Stall ID'], row['Item Name'], price, durability, compatibility)\n",
        "\n",
        "        if len(pq) < top_n:\n",
        "            heapq.heappush(pq, entry)\n",
        "        else:\n",
        "            # keep highest scores only\n",
        "            heapq.heappushpop(pq, entry)\n",
        "\n",
        "    # Sort results in descending score order\n",
        "    results = []\n",
        "    rank = 1\n",
        "    for item in heapq.nlargest(top_n, pq):\n",
        "        results.append({\n",
        "            'Ranking': rank,\n",
        "            'Stall ID': item[1],\n",
        "            'Item Name': item[2],\n",
        "            'Price': item[3],\n",
        "            'Durability': item[4],\n",
        "            'Compatibility': item[5],\n",
        "            'Score': item[0]\n",
        "        })\n",
        "        rank += 1\n",
        "\n",
        "    return pd.DataFrame(results)\n",
        "\n",
        "ranked_df = get_ranked_modules(df, top_n=10)\n",
        "print(ranked_df.to_string(index=False))\n"
      ],
      "metadata": {
        "colab": {
          "base_uri": "https://localhost:8080/"
        },
        "id": "Ua3AtZESJhQ6",
        "outputId": "24a3ebb6-f59b-4261-a12e-6172237495fd"
      },
      "execution_count": null,
      "outputs": [
        {
          "output_type": "stream",
          "name": "stdout",
          "text": [
            " Ranking  Stall ID      Item Name  Price  Durability  Compatibility  Score\n",
            "       1 STALL-190   Neutron Lens    113          93           0.92  816.3\n",
            "       2 STALL-158       Ion Core    205          98           0.94  744.8\n",
            "       3 STALL-153     Solar Core    394          98           0.99  605.8\n",
            "       4 STALL-143 Neutron Shield    285          93           0.87  594.3\n",
            "       5 STALL-076     Hyper Lens    397          98           0.98  592.8\n",
            "       6 STALL-182    Hyper Drive    518          95           0.91  401.5\n",
            "       7 STALL-181   Plasma Relay    629          87           0.96  339.7\n",
            "       8 STALL-151     Ion Filter    625          93           0.94  324.3\n",
            "       9 STALL-029    Plasma Core    658          97           0.90  251.7\n",
            "      10 STALL-167   Neutron Lens    747          90           0.93  192.0\n"
          ]
        }
      ]
    },
    {
      "cell_type": "markdown",
      "source": [
        "In short, we filter the items based on:\n",
        "\n",
        "- Price < 800\n",
        "\n",
        "- Durability > 85\n",
        "\n",
        "- Compatibility ≥ 0.8 (assumed threshold)\n",
        "\n",
        "Then, we use a priority queue (heap) to rank (top_n) the filtered results by:\n",
        "\n",
        "- Score = Compatibility × 1000 – Price + Durability ÷ 10\n"
      ],
      "metadata": {
        "id": "Wj4bHH7GMMmY"
      }
    },
    {
      "cell_type": "markdown",
      "source": [
        "**Note:**\n",
        "- Python’s `heapq` only creates min-heaps by default, meaning it always pops the smallest item first, which is not ideal when we want the best or highest-ranked item.\n",
        "\n",
        "- To simulate a max-heap, we use a trick: store the negative version of the score (e.g., if the score is 600, store it as -600).\n",
        "\n",
        "- This works because the highest positive score becomes the smallest (most negative) number, so when `heapq` pops the smallest item, it's actually giving us the best module based on our ranking score."
      ],
      "metadata": {
        "id": "cE4YN-WkN0Q8"
      }
    },
    {
      "cell_type": "markdown",
      "source": [
        "**Note:**\n",
        "\n",
        "How we define Score = Compatibility × 1000 – Price + Durability ÷ 10\n",
        "\n",
        "- Compatibility × 1000\n",
        "\n",
        "Compatibility values are decimals (like 0.99), and prices are in the hundreds, so multiplying compatibility by 1000 makes it a major factor in the score, to ensure only well-fitting modules are considered.\n",
        "\n",
        "- Price\n",
        "\n",
        "We want to favor cheaper modules because lower price means better value, so subtracting the price ensures that, among equally compatible items, the cheaper one ranks higher.\n",
        "\n",
        "- Durability ÷ 10\n",
        "\n",
        "While durability is important for long-term use, it’s not as critical as compatibility or cost, so dividing it by 10 gives it a smaller boost, which rewards more durable items without overpowering the other factors.\n"
      ],
      "metadata": {
        "id": "SMXwJlZbOQux"
      }
    },
    {
      "cell_type": "markdown",
      "source": [
        "##**Conclusion**"
      ],
      "metadata": {
        "id": "_cjKhKB9v9zP"
      }
    },
    {
      "cell_type": "markdown",
      "source": [
        "Heap-based method is chosen, because:\n",
        "\n",
        "- Heap-based method keeps top_n elements in O(n log top_n) (top_n is small compared to n), while full sort takes O(n log n).\n",
        "- Time grows slowly even with large datasets as long as top_n is small or fixed.\n",
        "- Heap-based method is suitable for datasets in real-time or streaming where results are updated incrementally.\n"
      ],
      "metadata": {
        "id": "ViHhm_onv_og"
      }
    }
  ]
}